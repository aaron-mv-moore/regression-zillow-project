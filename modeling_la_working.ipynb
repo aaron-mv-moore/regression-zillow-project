{
 "cells": [
  {
   "cell_type": "code",
   "execution_count": 1,
   "id": "f80c58d8",
   "metadata": {},
   "outputs": [],
   "source": [
    "# tab data\n",
    "import pandas as pd\n",
    "import numpy as np\n",
    "\n",
    "# data and prep\n",
    "from wrangle import wrangle_zillow\n",
    "from preprocess import scale_data\n",
    "\n",
    "# data viz\n",
    "import matplotlib.pyplot as plt\n",
    "\n",
    "# stats and modeling needs\n",
    "from scipy import stats\n",
    "from sklearn.metrics import mean_squared_error\n",
    "from sklearn.linear_model import LinearRegression, LassoLars, TweedieRegressor\n",
    "from sklearn.preprocessing import PolynomialFeatures\n",
    "\n",
    "from sklearn.preprocessing import MinMaxScaler, RobustScaler, StandardScaler\n",
    "\n",
    "import warnings\n",
    "warnings.filterwarnings(\"ignore\")"
   ]
  },
  {
   "cell_type": "code",
   "execution_count": 2,
   "id": "308ddb94",
   "metadata": {},
   "outputs": [],
   "source": [
    "train, validate, test = wrangle_zillow()"
   ]
  },
  {
   "cell_type": "code",
   "execution_count": 3,
   "id": "33be6f0b",
   "metadata": {},
   "outputs": [],
   "source": [
    "# get only oc for each\n",
    "train = train[train.county == 'Los Angeles']\n",
    "# get only oc for each\n",
    "validate = validate[validate.county == 'Los Angeles']\n",
    "# get only oc for each\n",
    "test = test[test.county == 'Los Angeles']"
   ]
  },
  {
   "cell_type": "code",
   "execution_count": 4,
   "id": "02cb8279",
   "metadata": {},
   "outputs": [],
   "source": [
    "num_cols = ['square_feet', 'baths', 'beds']"
   ]
  },
  {
   "cell_type": "code",
   "execution_count": 5,
   "id": "7b6595d2",
   "metadata": {},
   "outputs": [],
   "source": [
    "# xtrain, ytrain\n",
    "X_train = train[num_cols]\n",
    "y_train = train[['tax_value']]\n",
    "\n",
    "# xvalidate, yvalidate\n",
    "X_validate = validate[num_cols]\n",
    "y_validate = validate[['tax_value']]\n",
    "\n",
    "# xtest, ytest\n",
    "X_test = test[num_cols]\n",
    "y_test = test[['tax_value']]"
   ]
  },
  {
   "cell_type": "code",
   "execution_count": 6,
   "id": "4e5c4676",
   "metadata": {},
   "outputs": [],
   "source": [
    "# scaling\n",
    "X_train_scaled, X_validate_scaled, X_test_scaled = scale_data(X_train, num_cols, 'minmax', X_validate=X_validate, X_test=X_test)"
   ]
  },
  {
   "cell_type": "code",
   "execution_count": 7,
   "id": "3485a9f2",
   "metadata": {},
   "outputs": [],
   "source": [
    "y='tax_value'\n",
    "# baseline using median\n",
    "y_train['baseline_mean'] = round(y_train[y].mean(), 2)\n",
    "y_validate['baseline_mean'] = round(y_validate.loc[:,y].mean(), 2)"
   ]
  },
  {
   "cell_type": "code",
   "execution_count": 8,
   "id": "8abc6cac",
   "metadata": {},
   "outputs": [
    {
     "data": {
      "text/plain": [
       "(253136.35562037252, 251369.25292817858, 1767.1026921939338)"
      ]
     },
     "execution_count": 8,
     "metadata": {},
     "output_type": "execute_result"
    }
   ],
   "source": [
    "# RMSE of mean baseline predictions\n",
    "rmse_train = mean_squared_error(y_train.loc[:,y], y_train['baseline_mean'], squared=False)\n",
    "rmse_validate = mean_squared_error(y_validate.loc[:,y], y_validate['baseline_mean'], squared=False)\n",
    "\n",
    "# checking scores\n",
    "rmse_train, rmse_validate, rmse_train - rmse_validate"
   ]
  },
  {
   "cell_type": "raw",
   "id": "06677513",
   "metadata": {},
   "source": [
    "# Modeling"
   ]
  },
  {
   "cell_type": "code",
   "execution_count": 9,
   "id": "02954a13",
   "metadata": {},
   "outputs": [],
   "source": [
    "def basic_linear_modeling(X_train, y_train, x_validate, y_validate, model):\n",
    "    '''\n",
    "    Arguments:\n",
    "    Actions:\n",
    "    Returns:\n",
    "    Modules:\n",
    "    '''\n",
    "    # fit the model\n",
    "    model.fit(X_train, y_train)\n",
    "   \n",
    "    # return predictions\n",
    "    return model.predict(X_train), model.predict(X_validate)\n",
    "    "
   ]
  },
  {
   "cell_type": "code",
   "execution_count": 10,
   "id": "b62e62b3",
   "metadata": {},
   "outputs": [],
   "source": [
    "y_train['ols_preds'], y_validate['ols_preds'] = basic_linear_modeling(X_train_scaled, y_train[['tax_value']], X_validate_scaled, y_validate[['tax_value']], model=LinearRegression())"
   ]
  },
  {
   "cell_type": "code",
   "execution_count": 11,
   "id": "2d497a6e",
   "metadata": {},
   "outputs": [],
   "source": [
    "y_train['lars_alpha_hundredth_preds'], y_validate['lars_alpha_tenth_preds'] = basic_linear_modeling(X_train_scaled, y_train[['tax_value']], X_validate_scaled, y_validate[['tax_value']], model=LassoLars(alpha=.01))\n",
    "y_train['lars_alpha_tenth_preds'], y_validate['lars_alpha_tenth_preds'] = basic_linear_modeling(X_train_scaled, y_train[['tax_value']], X_validate_scaled, y_validate[['tax_value']], model=LassoLars(alpha=.1))\n",
    "y_train['lars_alpha_half_preds'], y_validate['lars_alpha_half_preds'] = basic_linear_modeling(X_train_scaled, y_train[['tax_value']], X_validate_scaled, y_validate[['tax_value']], model=LassoLars(alpha=.5))\n",
    "y_train['lars_alpha1_preds'], y_validate['lars_alpha1_preds'] = basic_linear_modeling(X_train_scaled, y_train[['tax_value']], X_validate_scaled, y_validate[['tax_value']], model=LassoLars(alpha=1))"
   ]
  },
  {
   "cell_type": "code",
   "execution_count": 12,
   "id": "c5af647a",
   "metadata": {},
   "outputs": [],
   "source": [
    "y_train['glm_poi_preds'], y_validate['glm_poi_preds'] = basic_linear_modeling(X_train_scaled, y_train[['tax_value']], X_validate_scaled, y_validate[['tax_value']], model=TweedieRegressor(power=1))"
   ]
  },
  {
   "cell_type": "code",
   "execution_count": 13,
   "id": "c13414d7",
   "metadata": {},
   "outputs": [],
   "source": [
    "# make the polyni mial features\n",
    "pf = PolynomialFeatures(degree=2)\n",
    "\n",
    "# fit_transform\n",
    "X_train_degree2 = pf.fit_transform(X_train_scaled)\n",
    "\n",
    "# transform for validate\n",
    "X_validate_degree2 = pf.transform(X_validate_scaled)\n"
   ]
  },
  {
   "cell_type": "code",
   "execution_count": 14,
   "id": "b812ff30",
   "metadata": {},
   "outputs": [],
   "source": [
    "# create the model object\n",
    "lm2 = LinearRegression(normalize=True)\n",
    "\n",
    "# fit the model to our training data. We must specify the column in y_train, \n",
    "# since we have converted it to a dataframe from a series! \n",
    "lm2.fit(X_train_degree2, y_train.tax_value)\n",
    "\n",
    "# predict train\n",
    "y_train['poly_preds'] = lm2.predict(X_train_degree2)\n",
    "\n",
    "\n",
    "# predict validate\n",
    "y_validate['poly_preds'] = lm2.predict(X_validate_degree2)\n"
   ]
  },
  {
   "cell_type": "code",
   "execution_count": 15,
   "id": "7ff0a714",
   "metadata": {},
   "outputs": [
    {
     "data": {
      "text/plain": [
       "Index(['tax_value', 'baseline_mean', 'ols_preds', 'lars_alpha_hundredth_preds',\n",
       "       'lars_alpha_tenth_preds', 'lars_alpha_half_preds', 'lars_alpha1_preds',\n",
       "       'glm_poi_preds', 'poly_preds'],\n",
       "      dtype='object')"
      ]
     },
     "execution_count": 15,
     "metadata": {},
     "output_type": "execute_result"
    }
   ],
   "source": [
    "y_train.columns"
   ]
  },
  {
   "cell_type": "code",
   "execution_count": 16,
   "id": "c903ec8a",
   "metadata": {},
   "outputs": [],
   "source": [
    "model_rmse = []\n",
    "target = 'tax_value'\n",
    "for col in y_train:\n",
    "    if col in ['glm_poi_preds','lars_alpha_hundredth_preds', 'tax_value']:\n",
    "        pass\n",
    "    else:\n",
    "        rmse_train = mean_squared_error(y_train[target], round(y_train[col], 4), squared=False)\n",
    "        rmse_validate = mean_squared_error(y_validate[target], round(y_validate[col], 4), squared=False)\n",
    "        rmse_diff = rmse_train - rmse_validate\n",
    "        model_rmse.append({\n",
    "            'Model': col,\n",
    "            'Train RMSE': rmse_train,\n",
    "            'Validate RMSE': rmse_validate,\n",
    "            'RMSE Difference': rmse_diff\n",
    "        })"
   ]
  },
  {
   "cell_type": "code",
   "execution_count": 17,
   "id": "501f3e1a",
   "metadata": {},
   "outputs": [
    {
     "name": "stdout",
     "output_type": "stream",
     "text": [
      "{'Model': 'poly_preds', 'Train RMSE': 234080.58026768963, 'Validate RMSE': 232929.97477777212, 'RMSE Difference': 1150.605489917507}\n"
     ]
    }
   ],
   "source": [
    "train = 1000000\n",
    "for i in model_rmse:\n",
    "    if i['Train RMSE'] < train:\n",
    "        train = i['Train RMSE']\n",
    "\n",
    "# getting the lowest train RMSE\n",
    "for i in model_rmse:\n",
    "    if i['Train RMSE'] == train:\n",
    "        print(i)"
   ]
  },
  {
   "cell_type": "code",
   "execution_count": 18,
   "id": "dfc52897",
   "metadata": {},
   "outputs": [
    {
     "data": {
      "text/plain": [
       "[{'Model': 'baseline_mean',\n",
       "  'Train RMSE': 253136.35562037252,\n",
       "  'Validate RMSE': 251369.25292817858,\n",
       "  'RMSE Difference': 1767.1026921939338},\n",
       " {'Model': 'ols_preds',\n",
       "  'Train RMSE': 234749.75867283187,\n",
       "  'Validate RMSE': 903359752.2224324,\n",
       "  'RMSE Difference': -903125002.4637595},\n",
       " {'Model': 'lars_alpha_tenth_preds',\n",
       "  'Train RMSE': 234749.76037928433,\n",
       "  'Validate RMSE': 903199591.1216372,\n",
       "  'RMSE Difference': -902964841.3612579},\n",
       " {'Model': 'lars_alpha_half_preds',\n",
       "  'Train RMSE': 234749.80134020446,\n",
       "  'Validate RMSE': 902558946.7185745,\n",
       "  'RMSE Difference': -902324196.9172343},\n",
       " {'Model': 'lars_alpha1_preds',\n",
       "  'Train RMSE': 234749.92934045708,\n",
       "  'Validate RMSE': 901758141.2149996,\n",
       "  'RMSE Difference': -901523391.2856591},\n",
       " {'Model': 'poly_preds',\n",
       "  'Train RMSE': 234080.58026768963,\n",
       "  'Validate RMSE': 232929.97477777212,\n",
       "  'RMSE Difference': 1150.605489917507}]"
      ]
     },
     "execution_count": 18,
     "metadata": {},
     "output_type": "execute_result"
    }
   ],
   "source": [
    "model_rmse"
   ]
  }
 ],
 "metadata": {
  "kernelspec": {
   "display_name": "Python 3 (ipykernel)",
   "language": "python",
   "name": "python3"
  },
  "language_info": {
   "codemirror_mode": {
    "name": "ipython",
    "version": 3
   },
   "file_extension": ".py",
   "mimetype": "text/x-python",
   "name": "python",
   "nbconvert_exporter": "python",
   "pygments_lexer": "ipython3",
   "version": "3.9.13"
  }
 },
 "nbformat": 4,
 "nbformat_minor": 5
}
