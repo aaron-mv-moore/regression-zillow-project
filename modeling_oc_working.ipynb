{
 "cells": [
  {
   "cell_type": "code",
   "execution_count": 1,
   "id": "b6c8b8e0",
   "metadata": {},
   "outputs": [],
   "source": [
    "# tab data\n",
    "import pandas as pd\n",
    "import numpy as np\n",
    "\n",
    "# data and prep\n",
    "from wrangle import wrangle_zillow\n",
    "from preprocess import scale_data\n",
    "\n",
    "# data viz\n",
    "import matplotlib.pyplot as plt\n",
    "\n",
    "# stats and modeling needs\n",
    "from scipy import stats\n",
    "from sklearn.metrics import mean_squared_error\n",
    "from sklearn.linear_model import LinearRegression, LassoLars, TweedieRegressor\n",
    "from sklearn.preprocessing import PolynomialFeatures\n",
    "\n",
    "from sklearn.preprocessing import MinMaxScaler, RobustScaler, StandardScaler\n",
    "\n",
    "import warnings\n",
    "warnings.filterwarnings(\"ignore\")"
   ]
  },
  {
   "cell_type": "code",
   "execution_count": 2,
   "id": "d375fecc",
   "metadata": {},
   "outputs": [],
   "source": [
    "train, validate, test = wrangle_zillow()"
   ]
  },
  {
   "cell_type": "code",
   "execution_count": 3,
   "id": "1b5830ad",
   "metadata": {},
   "outputs": [],
   "source": [
    "# get only oc for each\n",
    "train = train[train.county == 'Orange']\n",
    "# get only oc for each\n",
    "validate = validate[validate.county == 'Orange']\n",
    "# get only oc for each\n",
    "test = test[test.county == 'Orange']"
   ]
  },
  {
   "cell_type": "code",
   "execution_count": 4,
   "id": "3b9ba28d",
   "metadata": {},
   "outputs": [],
   "source": [
    "num_cols = ['square_feet', 'beds', 'baths']"
   ]
  },
  {
   "cell_type": "code",
   "execution_count": 5,
   "id": "3b601f84",
   "metadata": {},
   "outputs": [],
   "source": [
    "# xtrain, ytrain\n",
    "X_train = train[num_cols]\n",
    "y_train = train[['tax_value']]\n",
    "\n",
    "# xvalidate, yvalidate\n",
    "X_validate = validate[num_cols]\n",
    "y_validate = validate[['tax_value']]\n",
    "\n",
    "# xtest, ytest\n",
    "X_test = test[num_cols]\n",
    "y_test = test[['tax_value']]"
   ]
  },
  {
   "cell_type": "code",
   "execution_count": 6,
   "id": "ed96099d",
   "metadata": {},
   "outputs": [],
   "source": [
    "# scaling\n",
    "X_train_scaled, X_validate_scaled, X_test_scaled = scale_data(X_train, num_cols, 'minmax', X_validate=X_validate, X_test=X_test)"
   ]
  },
  {
   "cell_type": "code",
   "execution_count": 7,
   "id": "be775693",
   "metadata": {},
   "outputs": [],
   "source": [
    "# preprocess\n",
    "def preprocess_zillow():\n",
    "    '''\n",
    "    Actions: scales data ready for modeling\n",
    "    '''\n",
    "    # get data\n",
    "    train, validate, test = wrangle_zillow()\n",
    "    \n",
    "    # get only oc for each\n",
    "    train = train[train.county == 'Orange']\n",
    "    # get only oc for each\n",
    "    validate = validate[validate.county == 'Orange']\n",
    "    # get only oc for each\n",
    "    test = test[test.county == 'Orange']\n",
    "    \n",
    "    # set list of num columns\n",
    "    num_cols = ['square_feet', 'beds', 'baths']\n",
    "    \n",
    "    # xtrain, ytrain\n",
    "    X_train = train[num_cols]\n",
    "    y_train = train[['tax_value']]\n",
    "\n",
    "    # xvalidate, yvalidate\n",
    "    X_validate = validate[num_cols]\n",
    "    y_validate = validate[['tax_value']]\n",
    "\n",
    "    # xtest, ytest\n",
    "    X_test = test[num_cols]\n",
    "    y_test = test[['tax_value']]\n",
    "    \n",
    "    # scaling\n",
    "    X_train_scaled, X_validate_scaled, X_test_scaled = scale_data(X_train, num_cols, 'minmax', X_validate=X_validate, X_test=X_test)\n",
    "    \n",
    "    # exit function and return\n",
    "    return X_train_scaled, X_validate_scaled, X_test_scaled, y_train, y_validate, y_test"
   ]
  },
  {
   "cell_type": "code",
   "execution_count": 8,
   "id": "d91dad82",
   "metadata": {},
   "outputs": [],
   "source": [
    "X_train_scaled, X_validate_scaled, X_test_scaled, y_train, y_validate, y_test= preprocess_zillow()"
   ]
  },
  {
   "cell_type": "code",
   "execution_count": 9,
   "id": "0701251d",
   "metadata": {},
   "outputs": [],
   "source": [
    "y='tax_value'\n",
    "# baseline using median\n",
    "y_train['baseline_mean'] = round(y_train[y].mean(), 2)\n",
    "y_validate['baseline_mean'] = round(y_validate.loc[:,y].mean(), 2)"
   ]
  },
  {
   "cell_type": "code",
   "execution_count": 10,
   "id": "7a40b53d",
   "metadata": {},
   "outputs": [
    {
     "data": {
      "text/plain": [
       "(259532.8366898489, 255477.65091251553, 4055.1857773333613)"
      ]
     },
     "execution_count": 10,
     "metadata": {},
     "output_type": "execute_result"
    }
   ],
   "source": [
    "# RMSE of mean baseline predictions\n",
    "rmse_train = mean_squared_error(y_train.loc[:,y], y_train['baseline_mean'], squared=False)\n",
    "rmse_validate = mean_squared_error(y_validate.loc[:,y], y_validate['baseline_mean'], squared=False)\n",
    "\n",
    "# checking scores\n",
    "rmse_train, rmse_validate, rmse_train - rmse_validate"
   ]
  },
  {
   "cell_type": "code",
   "execution_count": 11,
   "id": "1d45fb46",
   "metadata": {},
   "outputs": [],
   "source": [
    "def get_baseline():\n",
    "    '''\n",
    "    Actions: caluculate baseline and add it to train df, output the rmse and rmse difference\n",
    "    '''\n",
    "    y='tax_value'\n",
    "    # baseline using mean\n",
    "    y_train['baseline_mean'] = round(y_train[y].mean(), 2)\n",
    "    y_validate['baseline_mean'] = round(y_validate.loc[:,y].mean(), 2)\n",
    "    \n",
    "    # RMSE of mean baseline predictions\n",
    "    rmse_train = mean_squared_error(y_train.loc[:,y], y_train['baseline_mean'], squared=False)\n",
    "    rmse_validate = mean_squared_error(y_validate.loc[:,y], y_validate['baseline_mean'], squared=False)\n",
    "\n",
    "    # getting difference\n",
    "    rmse_diff = rmse_train - rmse_validate\n",
    "    \n",
    "    # printing scores\n",
    "    print(f'''Baseline Model\n",
    "    Baseline: {round(y_train[y].mean(), 2)}\n",
    "    RMSE on Train: {round(rmse_train, 2)}\n",
    "    RMSE on Validate: {round(rmse_validate, 2)}\n",
    "    RMSE Difference: {round(rmse_diff, 2)}''')\n",
    "    \n",
    "    return"
   ]
  },
  {
   "cell_type": "code",
   "execution_count": 12,
   "id": "12b5b93b",
   "metadata": {},
   "outputs": [
    {
     "name": "stdout",
     "output_type": "stream",
     "text": [
      "Baseline Model\n",
      "    Baseline: 451120.36\n",
      "    RMSE on Train: 259532.84\n",
      "    RMSE on Validate: 255477.65\n",
      "    RMSE Difference: 4055.19\n"
     ]
    }
   ],
   "source": [
    "get_baseline()"
   ]
  },
  {
   "cell_type": "markdown",
   "id": "6e660fe4",
   "metadata": {},
   "source": [
    "# Modeling"
   ]
  },
  {
   "cell_type": "code",
   "execution_count": 13,
   "id": "c20db389",
   "metadata": {},
   "outputs": [],
   "source": [
    "def basic_linear_modeling(X_train_scaled, y_train, x_validate_scaled, y_validate, model):\n",
    "    '''\n",
    "    Arguments:\n",
    "    Actions: runs through specified linear model pipeline and returns the predictions for train and val\n",
    "    '''\n",
    "    # fit the model\n",
    "    model.fit(X_train_scaled, y_train)\n",
    "   \n",
    "    # return predictions\n",
    "    return model.predict(X_train_scaled), model.predict(X_validate_scaled)"
   ]
  },
  {
   "cell_type": "code",
   "execution_count": 14,
   "id": "bc69a85e",
   "metadata": {},
   "outputs": [],
   "source": [
    "def get_lassolars_model():\n",
    "    '''\n",
    "    Actions: Returns rmse metric for ols model\n",
    "    '''\n",
    "    \n",
    "    # assigning model to y_train\n",
    "    y_train['lars_alpha1_preds'], y_validate['lars_alpha1_preds'] = basic_linear_modeling(X_train_scaled, y_train[['tax_value']], X_validate_scaled, y_validate[['tax_value']], model=LinearRegression())\n",
    "    \n",
    "    # RMSE of mean baseline predictions\n",
    "    rmse_train = mean_squared_error(y_train['tax_value'], y_train['lars_alpha1_preds'], squared=False)\n",
    "    rmse_validate = mean_squared_error(y_validate['tax_value'], y_validate['lars_alpha1_preds'], squared=False)\n",
    "\n",
    "    # getting difference\n",
    "    rmse_diff = rmse_train - rmse_validate\n",
    "    \n",
    "    # printing scores\n",
    "    print(f'''LassoLars Alpha-1 Model\n",
    "    RMSE on Train: {round(rmse_train, 4)}\n",
    "    RMSE on Validate: {round(rmse_validate, 4)}\n",
    "    RMSE Difference: {round(rmse_diff, 4)}''')\n",
    "    \n",
    "    return"
   ]
  },
  {
   "cell_type": "code",
   "execution_count": 15,
   "id": "0aaa0de7",
   "metadata": {},
   "outputs": [
    {
     "name": "stdout",
     "output_type": "stream",
     "text": [
      "LassoLars Alpha-1 Model\n",
      "    RMSE on Train: 226149.8616\n",
      "    RMSE on Validate: 1068134691.6044\n",
      "    RMSE Difference: -1067908541.7427\n"
     ]
    }
   ],
   "source": [
    "get_lassolars_model()"
   ]
  },
  {
   "cell_type": "code",
   "execution_count": 16,
   "id": "66bb016e",
   "metadata": {},
   "outputs": [
    {
     "ename": "IndentationError",
     "evalue": "unexpected indent (4074839256.py, line 11)",
     "output_type": "error",
     "traceback": [
      "\u001b[0;36m  Input \u001b[0;32mIn [16]\u001b[0;36m\u001b[0m\n\u001b[0;31m    rmse_diff = rmse_train - rmse_validate\u001b[0m\n\u001b[0m    ^\u001b[0m\n\u001b[0;31mIndentationError\u001b[0m\u001b[0;31m:\u001b[0m unexpected indent\n"
     ]
    }
   ],
   "source": [
    "def get_model(model):\n",
    "    '''\n",
    "    \n",
    "    \n",
    "    '''\n",
    "    \n",
    "    y_train['lars_alpha1_preds'], y_validate['lars_alpha1_preds'] = basic_linear_modeling(X_train_scaled, y_train[['tax_value']], X_validate_scaled, y_validate[['tax_value']], model=LassoLars(alpha=1))\n",
    "    \n",
    "    rmse_train = mean_squared_error(y_train[target], round(y_train[col], 4), squared=False)\n",
    "    rmse_validate = mean_squared_error(y_validate[target], round(y_validate[col], 4), squared=False)\n",
    "        rmse_diff = rmse_train - rmse_validate\n",
    "        model_rmse.append({\n",
    "            'Model': col,\n",
    "            'Train RMSE': rmse_train,\n",
    "            'Validate RMSE': rmse_validate,\n",
    "            'RMSE Difference': rmse_diff\n",
    "        })"
   ]
  },
  {
   "cell_type": "code",
   "execution_count": 28,
   "id": "a068f1ca",
   "metadata": {},
   "outputs": [],
   "source": [
    "def get_ols_model():\n",
    "    '''\n",
    "    Action: prints metrics for ols model for view\n",
    "    '''\n",
    "    # assigns ols predictions to y datasets\n",
    "    y_train['ols_preds'], y_validate['ols_preds'] = basic_linear_modeling(X_train_scaled, y_train[['tax_value']], X_validate_scaled, y_validate[['tax_value']], model=LinearRegression())\n",
    "    \n",
    "    # RMSE of ols model predictions\n",
    "    rmse_train = mean_squared_error(y_train['tax_value'], y_train['ols_preds'], squared=False)\n",
    "    rmse_validate = mean_squared_error(y_validate['tax_value'], y_validate['ols_preds'], squared=False)\n",
    "\n",
    "    # getting difference\n",
    "    rmse_diff = rmse_train - rmse_validate\n",
    "    \n",
    "    # printing scores\n",
    "    print(f'''OLS Model\n",
    "    RMSE on Train: {round(rmse_train, 4)}\n",
    "    RMSE on Validate: {round(rmse_validate, 4)}\n",
    "    RMSE Difference: {round(rmse_diff, 4)}''')\n",
    "    \n",
    "    return"
   ]
  },
  {
   "cell_type": "code",
   "execution_count": 29,
   "id": "faeed8dd",
   "metadata": {},
   "outputs": [
    {
     "name": "stdout",
     "output_type": "stream",
     "text": [
      "OLS Model\n",
      "    RMSE on Train: 226149.8616\n",
      "    RMSE on Validate: 1068134691.6044\n",
      "    RMSE Difference: -1067908541.7427\n"
     ]
    }
   ],
   "source": [
    "get_ols_model()"
   ]
  },
  {
   "cell_type": "code",
   "execution_count": null,
   "id": "19d40270",
   "metadata": {},
   "outputs": [],
   "source": [
    "y_train['ols_preds'], y_validate['ols_preds'] = basic_linear_modeling(X_train_scaled, y_train[['tax_value']], X_validate_scaled, y_validate[['tax_value']], model=LinearRegression())"
   ]
  },
  {
   "cell_type": "code",
   "execution_count": 18,
   "id": "ec627d2e",
   "metadata": {},
   "outputs": [],
   "source": [
    "y_train['lars_alpha_hundredth_preds'], y_validate['lars_alpha_tenth_preds'] = basic_linear_modeling(X_train_scaled, y_train[['tax_value']], X_validate_scaled, y_validate[['tax_value']], model=LassoLars(alpha=.01))\n",
    "y_train['lars_alpha_tenth_preds'], y_validate['lars_alpha_tenth_preds'] = basic_linear_modeling(X_train_scaled, y_train[['tax_value']], X_validate_scaled, y_validate[['tax_value']], model=LassoLars(alpha=.1))\n",
    "y_train['lars_alpha_half_preds'], y_validate['lars_alpha_half_preds'] = basic_linear_modeling(X_train_scaled, y_train[['tax_value']], X_validate_scaled, y_validate[['tax_value']], model=LassoLars(alpha=.5))\n",
    "y_train['lars_alpha1_preds'], y_validate['lars_alpha1_preds'] = basic_linear_modeling(X_train_scaled, y_train[['tax_value']], X_validate_scaled, y_validate[['tax_value']], model=LassoLars(alpha=1))"
   ]
  },
  {
   "cell_type": "code",
   "execution_count": null,
   "id": "ad2639f4",
   "metadata": {},
   "outputs": [],
   "source": [
    "y_train['glm_poi_preds'], y_validate['glm_poi_preds'] = basic_linear_modeling(X_train_scaled, y_train[['tax_value']], X_validate_scaled, y_validate[['tax_value']], model=TweedieRegressor(power=1))"
   ]
  },
  {
   "cell_type": "code",
   "execution_count": null,
   "id": "c8e49853",
   "metadata": {},
   "outputs": [],
   "source": [
    "# make the polyni mial features\n",
    "pf = PolynomialFeatures(degree=2)\n",
    "\n",
    "# fit_transform\n",
    "X_train_degree2 = pf.fit_transform(X_train_scaled)\n",
    "\n",
    "# transform for validate\n",
    "X_validate_degree2 = pf.transform(X_validate_scaled)\n"
   ]
  },
  {
   "cell_type": "code",
   "execution_count": null,
   "id": "8e30afd3",
   "metadata": {},
   "outputs": [],
   "source": [
    "# create the model object\n",
    "lm2 = LinearRegression(normalize=True)\n",
    "\n",
    "# fit the model to our training data. We must specify the column in y_train, \n",
    "# since we have converted it to a dataframe from a series! \n",
    "lm2.fit(X_train_degree2, y_train.tax_value)\n",
    "\n",
    "# predict train\n",
    "y_train['poly_preds'] = lm2.predict(X_train_degree2)\n",
    "\n",
    "\n",
    "# predict validate\n",
    "y_validate['poly_preds'] = lm2.predict(X_validate_degree2)\n"
   ]
  },
  {
   "cell_type": "code",
   "execution_count": null,
   "id": "40adeacd",
   "metadata": {},
   "outputs": [],
   "source": [
    "def get_poly_model():\n",
    "    '''\n",
    "    Action: Returns metrics for polynomial model\n",
    "    '''\n",
    "    \n",
    "    # make the polyni mial features\n",
    "    pf = PolynomialFeatures(degree=2)\n",
    "\n",
    "    # fit_transform\n",
    "    X_train_degree2 = pf.fit_transform(X_train_scaled)\n",
    "\n",
    "    # transform for validate\n",
    "    X_validate_degree2 = pf.transform(X_validate_scaled)\n",
    "\n",
    "    # create the model object\n",
    "    lm2 = LinearRegression(normalize=True)\n",
    "\n",
    "    # fit the model to our training data. We must specify the column in y_train, \n",
    "    # since we have converted it to a dataframe from a series! \n",
    "    lm2.fit(X_train_degree2, y_train.tax_value)\n",
    "\n",
    "    # predict train\n",
    "    y_train['poly_preds'] = lm2.predict(X_train_degree2)\n",
    "\n",
    "    # predict validate\n",
    "    y_validate['poly_preds'] = lm2.predict(X_validate_degree2)\n",
    "\n",
    "    # RMSE of predictions\n",
    "    rmse_train = mean_squared_error(y_train['tax_value'], y_train['poly_preds'], squared=False)\n",
    "    rmse_validate = mean_squared_error(y_validate['tax_value'], y_validate['poly_preds'], squared=False)\n",
    "\n",
    "    # getting difference\n",
    "    rmse_diff = rmse_train - rmse_validate\n",
    "    \n",
    "    # printing scores\n",
    "    print(f'''Polynomial 2-degree Model\n",
    "    RMSE on Train: {round(rmse_train, 4)}\n",
    "    RMSE on Validate: {round(rmse_validate, 4)}\n",
    "    RMSE Difference: {round(rmse_diff, 4)}''')\n",
    "    \n",
    "    return"
   ]
  },
  {
   "cell_type": "code",
   "execution_count": null,
   "id": "0ff4b828",
   "metadata": {},
   "outputs": [],
   "source": [
    "get_poly_model()"
   ]
  },
  {
   "cell_type": "code",
   "execution_count": null,
   "id": "90390dc5",
   "metadata": {},
   "outputs": [],
   "source": [
    "y_train.columns"
   ]
  },
  {
   "cell_type": "code",
   "execution_count": 19,
   "id": "54b5ffd7",
   "metadata": {},
   "outputs": [],
   "source": [
    "model_rmse = []\n",
    "target = 'tax_value'\n",
    "for col in y_train:\n",
    "    if col in ['glm_poi_preds','lars_alpha_hundredth_preds', 'tax_value']:\n",
    "        pass\n",
    "    else:\n",
    "        rmse_train = mean_squared_error(y_train[target], round(y_train[col], 4), squared=False)\n",
    "        rmse_validate = mean_squared_error(y_validate[target], round(y_validate[col], 4), squared=False)\n",
    "        rmse_diff = rmse_train - rmse_validate\n",
    "        model_rmse.append({\n",
    "            'Model': col,\n",
    "            'Train RMSE': rmse_train,\n",
    "            'Validate RMSE': rmse_validate,\n",
    "            'RMSE Difference': rmse_diff\n",
    "        })"
   ]
  },
  {
   "cell_type": "code",
   "execution_count": null,
   "id": "4eed5d9c",
   "metadata": {},
   "outputs": [],
   "source": [
    "train = 1000000\n",
    "for i in model_rmse:\n",
    "    if i['Train RMSE'] < train:\n",
    "        train = i['Train RMSE']\n",
    "\n",
    "# getting the lowest train RMSE\n",
    "for i in model_rmse:\n",
    "    if i['Train RMSE'] == train:\n",
    "        print(i)"
   ]
  },
  {
   "cell_type": "code",
   "execution_count": 20,
   "id": "7be3f356",
   "metadata": {},
   "outputs": [
    {
     "data": {
      "text/plain": [
       "[{'Model': 'baseline_mean',\n",
       "  'Train RMSE': 259532.8366898489,\n",
       "  'Validate RMSE': 255477.65091251553,\n",
       "  'RMSE Difference': 4055.1857773333613},\n",
       " {'Model': 'lars_alpha1_preds',\n",
       "  'Train RMSE': 226149.9063306188,\n",
       "  'Validate RMSE': 1067348113.100551,\n",
       "  'RMSE Difference': -1067121963.1942204},\n",
       " {'Model': 'lars_alpha_tenth_preds',\n",
       "  'Train RMSE': 226149.86207921835,\n",
       "  'Validate RMSE': 1068056033.7539779,\n",
       "  'RMSE Difference': -1067829883.8918986},\n",
       " {'Model': 'lars_alpha_half_preds',\n",
       "  'Train RMSE': 226149.8728073113,\n",
       "  'Validate RMSE': 1067741402.3524348,\n",
       "  'RMSE Difference': -1067515252.4796275}]"
      ]
     },
     "execution_count": 20,
     "metadata": {},
     "output_type": "execute_result"
    }
   ],
   "source": [
    "model_rmse"
   ]
  },
  {
   "cell_type": "code",
   "execution_count": 30,
   "id": "5f2c3983",
   "metadata": {},
   "outputs": [],
   "source": [
    "def get_poly_test():\n",
    "    '''\n",
    "    Action: Returns metrics for polynomial model ran on test\n",
    "    '''\n",
    "    \n",
    "    # make the polyni mial features\n",
    "    pf = PolynomialFeatures(degree=2)\n",
    "\n",
    "    # fit_transform\n",
    "    X_train_degree2 = pf.fit_transform(X_train_scaled)\n",
    "\n",
    "    # transform for validate\n",
    "    X_test_degree2 = pf.transform(X_test_scaled)\n",
    "\n",
    "    # create the model object\n",
    "    lm2 = LinearRegression(normalize=True)\n",
    "\n",
    "    # fit the model to our training data. We must specify the column in y_train, \n",
    "    # since we have converted it to a dataframe from a series! \n",
    "    lm2.fit(X_train_degree2, y_train.tax_value)\n",
    "\n",
    "    # predict train\n",
    "    y_train['poly_preds'] = lm2.predict(X_train_degree2)\n",
    "\n",
    "    # predict validate\n",
    "    y_test['poly_preds'] = lm2.predict(X_test_degree2)\n",
    "\n",
    "    # RMSE of predictions\n",
    "    rmse_train = mean_squared_error(y_train['tax_value'], y_train['poly_preds'], squared=False)\n",
    "    rmse_test = mean_squared_error(y_test['tax_value'], y_test['poly_preds'], squared=False)\n",
    "\n",
    "    # getting difference\n",
    "    rmse_diff = rmse_train - rmse_test\n",
    "    \n",
    "    # printing scores\n",
    "    print(f'''Polynomial 2-degree Model\n",
    "    RMSE on Train: {round(rmse_train, 4)}\n",
    "    RMSE on Test: {round(rmse_test, 4)}\n",
    "    RMSE Difference: {round(rmse_diff, 4)}''')\n",
    "    \n",
    "    return"
   ]
  }
 ],
 "metadata": {
  "kernelspec": {
   "display_name": "Python 3 (ipykernel)",
   "language": "python",
   "name": "python3"
  },
  "language_info": {
   "codemirror_mode": {
    "name": "ipython",
    "version": 3
   },
   "file_extension": ".py",
   "mimetype": "text/x-python",
   "name": "python",
   "nbconvert_exporter": "python",
   "pygments_lexer": "ipython3",
   "version": "3.9.13"
  }
 },
 "nbformat": 4,
 "nbformat_minor": 5
}
