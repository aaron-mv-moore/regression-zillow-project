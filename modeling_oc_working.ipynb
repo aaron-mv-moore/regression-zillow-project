{
 "cells": [
  {
   "cell_type": "code",
   "execution_count": 1,
   "id": "b6c8b8e0",
   "metadata": {},
   "outputs": [],
   "source": [
    "# tab data\n",
    "import pandas as pd\n",
    "import numpy as np\n",
    "\n",
    "# data and prep\n",
    "from wrangle import wrangle_zillow\n",
    "from preprocess import scale_data\n",
    "\n",
    "# data viz\n",
    "import matplotlib.pyplot as plt\n",
    "\n",
    "# stats and modeling needs\n",
    "from scipy import stats\n",
    "from sklearn.metrics import mean_squared_error\n",
    "from sklearn.linear_model import LinearRegression, LassoLars, TweedieRegressor\n",
    "from sklearn.preprocessing import PolynomialFeatures\n",
    "\n",
    "from sklearn.preprocessing import MinMaxScaler, RobustScaler, StandardScaler\n",
    "\n",
    "import warnings\n",
    "warnings.filterwarnings(\"ignore\")"
   ]
  },
  {
   "cell_type": "code",
   "execution_count": 2,
   "id": "d375fecc",
   "metadata": {},
   "outputs": [],
   "source": [
    "train, validate, test = wrangle_zillow()"
   ]
  },
  {
   "cell_type": "code",
   "execution_count": 3,
   "id": "1b5830ad",
   "metadata": {},
   "outputs": [],
   "source": [
    "# get only oc for each\n",
    "train = train[train.county == 'Orange']\n",
    "# get only oc for each\n",
    "validate = validate[validate.county == 'Orange']\n",
    "# get only oc for each\n",
    "test = test[test.county == 'Orange']"
   ]
  },
  {
   "cell_type": "code",
   "execution_count": 4,
   "id": "3b9ba28d",
   "metadata": {},
   "outputs": [],
   "source": [
    "num_cols = ['square_feet', 'beds']"
   ]
  },
  {
   "cell_type": "code",
   "execution_count": 5,
   "id": "3b601f84",
   "metadata": {},
   "outputs": [],
   "source": [
    "# xtrain, ytrain\n",
    "X_train = train[num_cols]\n",
    "y_train = train[['tax_value']]\n",
    "\n",
    "# xvalidate, yvalidate\n",
    "X_validate = validate[num_cols]\n",
    "y_validate = validate[['tax_value']]\n",
    "\n",
    "# xtest, ytest\n",
    "X_test = test[num_cols]\n",
    "y_test = test[['tax_value']]"
   ]
  },
  {
   "cell_type": "code",
   "execution_count": 6,
   "id": "ed96099d",
   "metadata": {},
   "outputs": [],
   "source": [
    "# scaling\n",
    "X_train_scaled, X_validate_scaled, X_test_scaled = scale_data(X_train, num_cols, 'minmax', X_validate=X_validate, X_test=X_test)"
   ]
  },
  {
   "cell_type": "code",
   "execution_count": 7,
   "id": "0701251d",
   "metadata": {},
   "outputs": [],
   "source": [
    "y='tax_value'\n",
    "# baseline using median\n",
    "y_train['baseline_mean'] = round(y_train[y].mean(), 2)\n",
    "y_validate['baseline_mean'] = round(y_validate.loc[:,y].mean(), 2)"
   ]
  },
  {
   "cell_type": "code",
   "execution_count": 8,
   "id": "7a40b53d",
   "metadata": {},
   "outputs": [
    {
     "data": {
      "text/plain": [
       "(259532.8366898489, 255477.65091251553, 4055.1857773333613)"
      ]
     },
     "execution_count": 8,
     "metadata": {},
     "output_type": "execute_result"
    }
   ],
   "source": [
    "# RMSE of mean baseline predictions\n",
    "rmse_train = mean_squared_error(y_train.loc[:,y], y_train['baseline_mean'], squared=False)\n",
    "rmse_validate = mean_squared_error(y_validate.loc[:,y], y_validate['baseline_mean'], squared=False)\n",
    "\n",
    "# checking scores\n",
    "rmse_train, rmse_validate, rmse_train - rmse_validate"
   ]
  },
  {
   "cell_type": "raw",
   "id": "cbd62eb0",
   "metadata": {},
   "source": [
    "# Modeling"
   ]
  },
  {
   "cell_type": "code",
   "execution_count": 9,
   "id": "c20db389",
   "metadata": {},
   "outputs": [],
   "source": [
    "def basic_linear_modeling(X_train, y_train, x_validate, y_validate, model):\n",
    "    '''\n",
    "    Arguments:\n",
    "    Actions:\n",
    "    Returns:\n",
    "    Modules:\n",
    "    '''\n",
    "    # fit the model\n",
    "    model.fit(X_train, y_train)\n",
    "   \n",
    "    # return predictions\n",
    "    return model.predict(X_train), model.predict(X_validate)\n",
    "    "
   ]
  },
  {
   "cell_type": "code",
   "execution_count": 10,
   "id": "19d40270",
   "metadata": {},
   "outputs": [],
   "source": [
    "y_train['ols_preds'], y_validate['ols_preds'] = basic_linear_modeling(X_train_scaled, y_train[['tax_value']], X_validate_scaled, y_validate[['tax_value']], model=LinearRegression())"
   ]
  },
  {
   "cell_type": "code",
   "execution_count": 11,
   "id": "ec627d2e",
   "metadata": {},
   "outputs": [],
   "source": [
    "y_train['lars_alpha_hundredth_preds'], y_validate['lars_alpha_tenth_preds'] = basic_linear_modeling(X_train_scaled, y_train[['tax_value']], X_validate_scaled, y_validate[['tax_value']], model=LassoLars(alpha=.01))\n",
    "y_train['lars_alpha_tenth_preds'], y_validate['lars_alpha_tenth_preds'] = basic_linear_modeling(X_train_scaled, y_train[['tax_value']], X_validate_scaled, y_validate[['tax_value']], model=LassoLars(alpha=.1))\n",
    "y_train['lars_alpha_half_preds'], y_validate['lars_alpha_half_preds'] = basic_linear_modeling(X_train_scaled, y_train[['tax_value']], X_validate_scaled, y_validate[['tax_value']], model=LassoLars(alpha=.5))\n",
    "y_train['lars_alpha1_preds'], y_validate['lars_alpha1_preds'] = basic_linear_modeling(X_train_scaled, y_train[['tax_value']], X_validate_scaled, y_validate[['tax_value']], model=LassoLars(alpha=1))"
   ]
  },
  {
   "cell_type": "code",
   "execution_count": 12,
   "id": "ad2639f4",
   "metadata": {},
   "outputs": [],
   "source": [
    "y_train['glm_poi_preds'], y_validate['glm_poi_preds'] = basic_linear_modeling(X_train_scaled, y_train[['tax_value']], X_validate_scaled, y_validate[['tax_value']], model=TweedieRegressor(power=1))"
   ]
  },
  {
   "cell_type": "code",
   "execution_count": 13,
   "id": "c8e49853",
   "metadata": {},
   "outputs": [],
   "source": [
    "# make the polyni mial features\n",
    "pf = PolynomialFeatures(degree=2)\n",
    "\n",
    "# fit_transform\n",
    "X_train_degree2 = pf.fit_transform(X_train_scaled)\n",
    "\n",
    "# transform for validate\n",
    "X_validate_degree2 = pf.transform(X_validate_scaled)\n"
   ]
  },
  {
   "cell_type": "code",
   "execution_count": 14,
   "id": "8e30afd3",
   "metadata": {},
   "outputs": [],
   "source": [
    "# create the model object\n",
    "lm2 = LinearRegression(normalize=True)\n",
    "\n",
    "# fit the model to our training data. We must specify the column in y_train, \n",
    "# since we have converted it to a dataframe from a series! \n",
    "lm2.fit(X_train_degree2, y_train.tax_value)\n",
    "\n",
    "# predict train\n",
    "y_train['poly_preds'] = lm2.predict(X_train_degree2)\n",
    "\n",
    "\n",
    "# predict validate\n",
    "y_validate['poly_preds'] = lm2.predict(X_validate_degree2)\n"
   ]
  },
  {
   "cell_type": "code",
   "execution_count": 15,
   "id": "90390dc5",
   "metadata": {},
   "outputs": [
    {
     "data": {
      "text/plain": [
       "Index(['tax_value', 'baseline_mean', 'ols_preds', 'lars_alpha_hundredth_preds',\n",
       "       'lars_alpha_tenth_preds', 'lars_alpha_half_preds', 'lars_alpha1_preds',\n",
       "       'glm_poi_preds', 'poly_preds'],\n",
       "      dtype='object')"
      ]
     },
     "execution_count": 15,
     "metadata": {},
     "output_type": "execute_result"
    }
   ],
   "source": [
    "y_train.columns"
   ]
  },
  {
   "cell_type": "code",
   "execution_count": 16,
   "id": "54b5ffd7",
   "metadata": {},
   "outputs": [],
   "source": [
    "model_rmse = []\n",
    "target = 'tax_value'\n",
    "for col in y_train:\n",
    "    if col in ['glm_poi_preds','lars_alpha_hundredth_preds', 'tax_value']:\n",
    "        pass\n",
    "    else:\n",
    "        rmse_train = mean_squared_error(y_train[target], round(y_train[col], 4), squared=False)\n",
    "        rmse_validate = mean_squared_error(y_validate[target], round(y_validate[col], 4), squared=False)\n",
    "        rmse_diff = rmse_train - rmse_validate\n",
    "        model_rmse.append({\n",
    "            'Model': col,\n",
    "            'Train RMSE': rmse_train,\n",
    "            'Validate RMSE': rmse_validate,\n",
    "            'RMSE Difference': rmse_diff\n",
    "        })"
   ]
  },
  {
   "cell_type": "code",
   "execution_count": 17,
   "id": "4eed5d9c",
   "metadata": {},
   "outputs": [
    {
     "name": "stdout",
     "output_type": "stream",
     "text": [
      "{'Model': 'poly_preds', 'Train RMSE': 225923.04294255623, 'Validate RMSE': 225973.2523783483, 'RMSE Difference': -50.209435792057775}\n"
     ]
    }
   ],
   "source": [
    "train = 1000000\n",
    "for i in model_rmse:\n",
    "    if i['Train RMSE'] < train:\n",
    "        train = i['Train RMSE']\n",
    "\n",
    "# getting the lowest train RMSE\n",
    "for i in model_rmse:\n",
    "    if i['Train RMSE'] == train:\n",
    "        print(i)"
   ]
  },
  {
   "cell_type": "code",
   "execution_count": 18,
   "id": "7be3f356",
   "metadata": {},
   "outputs": [
    {
     "data": {
      "text/plain": [
       "[{'Model': 'baseline_mean',\n",
       "  'Train RMSE': 259532.8366898489,\n",
       "  'Validate RMSE': 255477.65091251553,\n",
       "  'RMSE Difference': 4055.1857773333613},\n",
       " {'Model': 'ols_preds',\n",
       "  'Train RMSE': 227111.28182722794,\n",
       "  'Validate RMSE': 1285167855.3561206,\n",
       "  'RMSE Difference': -1284940744.0742934},\n",
       " {'Model': 'lars_alpha_tenth_preds',\n",
       "  'Train RMSE': 227111.28222588135,\n",
       "  'Validate RMSE': 1285041247.639511,\n",
       "  'RMSE Difference': -1284814136.3572853},\n",
       " {'Model': 'lars_alpha_half_preds',\n",
       "  'Train RMSE': 227111.29178338894,\n",
       "  'Validate RMSE': 1284534816.7730932,\n",
       "  'RMSE Difference': -1284307705.48131},\n",
       " {'Model': 'lars_alpha1_preds',\n",
       "  'Train RMSE': 227111.32165206224,\n",
       "  'Validate RMSE': 1283901778.1901119,\n",
       "  'RMSE Difference': -1283674666.8684597},\n",
       " {'Model': 'poly_preds',\n",
       "  'Train RMSE': 225923.04294255623,\n",
       "  'Validate RMSE': 225973.2523783483,\n",
       "  'RMSE Difference': -50.209435792057775}]"
      ]
     },
     "execution_count": 18,
     "metadata": {},
     "output_type": "execute_result"
    }
   ],
   "source": [
    "model_rmse"
   ]
  }
 ],
 "metadata": {
  "kernelspec": {
   "display_name": "Python 3 (ipykernel)",
   "language": "python",
   "name": "python3"
  },
  "language_info": {
   "codemirror_mode": {
    "name": "ipython",
    "version": 3
   },
   "file_extension": ".py",
   "mimetype": "text/x-python",
   "name": "python",
   "nbconvert_exporter": "python",
   "pygments_lexer": "ipython3",
   "version": "3.9.13"
  }
 },
 "nbformat": 4,
 "nbformat_minor": 5
}
