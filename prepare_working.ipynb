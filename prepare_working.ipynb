{
 "cells": [
  {
   "cell_type": "markdown",
   "id": "45eaaa4a",
   "metadata": {},
   "source": [
    "# Prepare Working Notebook\n",
    "\n",
    "\n",
    "##### To do:\n",
    "1. Inspect null values\n",
    "2. Inspect column types\n",
    "3. Inspect data types\n",
    "4. Look for duplicates\n",
    "5. Ensure data is tidy"
   ]
  },
  {
   "cell_type": "code",
   "execution_count": 2,
   "id": "6d964ebe",
   "metadata": {},
   "outputs": [],
   "source": [
    "# tab data\n",
    "import pandas as pd\n",
    "import numpy as np\n",
    "\n",
    "# get data\n",
    "from wrangle import get_zillow"
   ]
  },
  {
   "cell_type": "code",
   "execution_count": 3,
   "id": "e1028594",
   "metadata": {},
   "outputs": [],
   "source": [
    "# getting data\n",
    "df = get_zillow()"
   ]
  },
  {
   "cell_type": "code",
   "execution_count": 4,
   "id": "fd0c2250",
   "metadata": {},
   "outputs": [
    {
     "data": {
      "text/plain": [
       "((52441, 5), 262205)"
      ]
     },
     "execution_count": 4,
     "metadata": {},
     "output_type": "execute_result"
    }
   ],
   "source": [
    "# inspecting shape and size\n",
    "df.shape, df.size"
   ]
  },
  {
   "cell_type": "markdown",
   "id": "a8cc7c7c",
   "metadata": {},
   "source": [
    "#### Nulls"
   ]
  },
  {
   "cell_type": "code",
   "execution_count": 5,
   "id": "c0db9407",
   "metadata": {},
   "outputs": [
    {
     "name": "stdout",
     "output_type": "stream",
     "text": [
      "<class 'pandas.core.frame.DataFrame'>\n",
      "RangeIndex: 52441 entries, 0 to 52440\n",
      "Data columns (total 5 columns):\n",
      " #   Column                        Non-Null Count  Dtype  \n",
      "---  ------                        --------------  -----  \n",
      " 0   bedroomcnt                    52441 non-null  float64\n",
      " 1   bathroomcnt                   52441 non-null  float64\n",
      " 2   calculatedfinishedsquarefeet  52359 non-null  float64\n",
      " 3   taxvaluedollarcnt             52440 non-null  float64\n",
      " 4   fips                          52441 non-null  float64\n",
      "dtypes: float64(5)\n",
      "memory usage: 2.0 MB\n"
     ]
    }
   ],
   "source": [
    "# looking for nulls\n",
    "df.info()"
   ]
  },
  {
   "cell_type": "code",
   "execution_count": 15,
   "id": "a3ee18d3",
   "metadata": {},
   "outputs": [
    {
     "data": {
      "text/html": [
       "<div>\n",
       "<style scoped>\n",
       "    .dataframe tbody tr th:only-of-type {\n",
       "        vertical-align: middle;\n",
       "    }\n",
       "\n",
       "    .dataframe tbody tr th {\n",
       "        vertical-align: top;\n",
       "    }\n",
       "\n",
       "    .dataframe thead th {\n",
       "        text-align: right;\n",
       "    }\n",
       "</style>\n",
       "<table border=\"1\" class=\"dataframe\">\n",
       "  <thead>\n",
       "    <tr style=\"text-align: right;\">\n",
       "      <th></th>\n",
       "      <th>bedroomcnt</th>\n",
       "      <th>bathroomcnt</th>\n",
       "      <th>calculatedfinishedsquarefeet</th>\n",
       "      <th>taxvaluedollarcnt</th>\n",
       "    </tr>\n",
       "  </thead>\n",
       "  <tbody>\n",
       "    <tr>\n",
       "      <th>0</th>\n",
       "      <td>4.0</td>\n",
       "      <td>3.5</td>\n",
       "      <td>3100.0</td>\n",
       "      <td>1023282.0</td>\n",
       "    </tr>\n",
       "    <tr>\n",
       "      <th>1</th>\n",
       "      <td>2.0</td>\n",
       "      <td>1.0</td>\n",
       "      <td>1465.0</td>\n",
       "      <td>464000.0</td>\n",
       "    </tr>\n",
       "    <tr>\n",
       "      <th>2</th>\n",
       "      <td>3.0</td>\n",
       "      <td>2.0</td>\n",
       "      <td>1243.0</td>\n",
       "      <td>564778.0</td>\n",
       "    </tr>\n",
       "    <tr>\n",
       "      <th>3</th>\n",
       "      <td>4.0</td>\n",
       "      <td>3.0</td>\n",
       "      <td>2376.0</td>\n",
       "      <td>145143.0</td>\n",
       "    </tr>\n",
       "    <tr>\n",
       "      <th>4</th>\n",
       "      <td>4.0</td>\n",
       "      <td>3.0</td>\n",
       "      <td>2962.0</td>\n",
       "      <td>773303.0</td>\n",
       "    </tr>\n",
       "    <tr>\n",
       "      <th>...</th>\n",
       "      <td>...</td>\n",
       "      <td>...</td>\n",
       "      <td>...</td>\n",
       "      <td>...</td>\n",
       "    </tr>\n",
       "    <tr>\n",
       "      <th>52436</th>\n",
       "      <td>4.0</td>\n",
       "      <td>2.0</td>\n",
       "      <td>1633.0</td>\n",
       "      <td>346534.0</td>\n",
       "    </tr>\n",
       "    <tr>\n",
       "      <th>52437</th>\n",
       "      <td>2.0</td>\n",
       "      <td>2.0</td>\n",
       "      <td>1286.0</td>\n",
       "      <td>354621.0</td>\n",
       "    </tr>\n",
       "    <tr>\n",
       "      <th>52438</th>\n",
       "      <td>4.0</td>\n",
       "      <td>2.0</td>\n",
       "      <td>1612.0</td>\n",
       "      <td>67205.0</td>\n",
       "    </tr>\n",
       "    <tr>\n",
       "      <th>52439</th>\n",
       "      <td>3.0</td>\n",
       "      <td>1.0</td>\n",
       "      <td>1032.0</td>\n",
       "      <td>49546.0</td>\n",
       "    </tr>\n",
       "    <tr>\n",
       "      <th>52440</th>\n",
       "      <td>3.0</td>\n",
       "      <td>2.0</td>\n",
       "      <td>1762.0</td>\n",
       "      <td>522000.0</td>\n",
       "    </tr>\n",
       "  </tbody>\n",
       "</table>\n",
       "<p>52359 rows × 4 columns</p>\n",
       "</div>"
      ],
      "text/plain": [
       "       bedroomcnt  bathroomcnt  calculatedfinishedsquarefeet  \\\n",
       "0             4.0          3.5                        3100.0   \n",
       "1             2.0          1.0                        1465.0   \n",
       "2             3.0          2.0                        1243.0   \n",
       "3             4.0          3.0                        2376.0   \n",
       "4             4.0          3.0                        2962.0   \n",
       "...           ...          ...                           ...   \n",
       "52436         4.0          2.0                        1633.0   \n",
       "52437         2.0          2.0                        1286.0   \n",
       "52438         4.0          2.0                        1612.0   \n",
       "52439         3.0          1.0                        1032.0   \n",
       "52440         3.0          2.0                        1762.0   \n",
       "\n",
       "       taxvaluedollarcnt  \n",
       "0              1023282.0  \n",
       "1               464000.0  \n",
       "2               564778.0  \n",
       "3               145143.0  \n",
       "4               773303.0  \n",
       "...                  ...  \n",
       "52436           346534.0  \n",
       "52437           354621.0  \n",
       "52438            67205.0  \n",
       "52439            49546.0  \n",
       "52440           522000.0  \n",
       "\n",
       "[52359 rows x 4 columns]"
      ]
     },
     "execution_count": 15,
     "metadata": {},
     "output_type": "execute_result"
    }
   ],
   "source": [
    "# looking at the nulls\n",
    "df[df.calculatedfinishedsquarefeet.isna()]"
   ]
  },
  {
   "cell_type": "code",
   "execution_count": 10,
   "id": "7c27fb21",
   "metadata": {},
   "outputs": [
    {
     "data": {
      "text/plain": [
       "0.0    74\n",
       "2.0     4\n",
       "1.0     3\n",
       "5.0     1\n",
       "Name: bedroomcnt, dtype: int64"
      ]
     },
     "execution_count": 10,
     "metadata": {},
     "output_type": "execute_result"
    }
   ],
   "source": [
    "# looking at other values where there are nulls \n",
    "df[df.calculatedfinishedsquarefeet.isna()].bedroomcnt.value_counts()"
   ]
  },
  {
   "cell_type": "code",
   "execution_count": 11,
   "id": "57b2eacf",
   "metadata": {},
   "outputs": [
    {
     "data": {
      "text/plain": [
       "0.0    74\n",
       "1.0     6\n",
       "1.5     1\n",
       "4.5     1\n",
       "Name: bathroomcnt, dtype: int64"
      ]
     },
     "execution_count": 11,
     "metadata": {},
     "output_type": "execute_result"
    }
   ],
   "source": [
    "# a trend is seen\n",
    "df[df.calculatedfinishedsquarefeet.isna()].bathroomcnt.value_counts()"
   ]
  },
  {
   "cell_type": "code",
   "execution_count": 13,
   "id": "c03310f1",
   "metadata": {},
   "outputs": [
    {
     "data": {
      "text/plain": [
       "82"
      ]
     },
     "execution_count": 13,
     "metadata": {},
     "output_type": "execute_result"
    }
   ],
   "source": [
    "df.calculatedfinishedsquarefeet.isna().sum()"
   ]
  },
  {
   "cell_type": "markdown",
   "id": "a5db6e31",
   "metadata": {},
   "source": [
    "#### Takeaways:\n",
    "* There are some null values present with most of the nulls also having 0 or likely missing data in the other sections. There may be a few reasons for this but I will remove the data because there are only 82 nulls in the square feet"
   ]
  },
  {
   "cell_type": "code",
   "execution_count": 16,
   "id": "9ada9bea",
   "metadata": {},
   "outputs": [],
   "source": [
    "# removing the nulls associated with the square feet\n",
    "df = df[df.calculatedfinishedsquarefeet.isna() == False]"
   ]
  },
  {
   "cell_type": "code",
   "execution_count": 17,
   "id": "b24a9843",
   "metadata": {},
   "outputs": [
    {
     "name": "stdout",
     "output_type": "stream",
     "text": [
      "<class 'pandas.core.frame.DataFrame'>\n",
      "Int64Index: 52359 entries, 0 to 52440\n",
      "Data columns (total 4 columns):\n",
      " #   Column                        Non-Null Count  Dtype  \n",
      "---  ------                        --------------  -----  \n",
      " 0   bedroomcnt                    52359 non-null  float64\n",
      " 1   bathroomcnt                   52359 non-null  float64\n",
      " 2   calculatedfinishedsquarefeet  52359 non-null  float64\n",
      " 3   taxvaluedollarcnt             52358 non-null  float64\n",
      "dtypes: float64(4)\n",
      "memory usage: 2.0 MB\n"
     ]
    }
   ],
   "source": [
    "# checking to see if other nulls were cleared\n",
    "df.info()"
   ]
  },
  {
   "cell_type": "code",
   "execution_count": 20,
   "id": "47fa3d30",
   "metadata": {},
   "outputs": [],
   "source": [
    "# dropping the final null becasue it is only 1 value, not necessary for us in this case\n",
    "df = df.dropna()"
   ]
  },
  {
   "cell_type": "markdown",
   "id": "f88684ac",
   "metadata": {},
   "source": [
    "#### Duplicates"
   ]
  },
  {
   "cell_type": "code",
   "execution_count": 35,
   "id": "4b4ae644",
   "metadata": {},
   "outputs": [
    {
     "data": {
      "text/html": [
       "<div>\n",
       "<style scoped>\n",
       "    .dataframe tbody tr th:only-of-type {\n",
       "        vertical-align: middle;\n",
       "    }\n",
       "\n",
       "    .dataframe tbody tr th {\n",
       "        vertical-align: top;\n",
       "    }\n",
       "\n",
       "    .dataframe thead th {\n",
       "        text-align: right;\n",
       "    }\n",
       "</style>\n",
       "<table border=\"1\" class=\"dataframe\">\n",
       "  <thead>\n",
       "    <tr style=\"text-align: right;\">\n",
       "      <th></th>\n",
       "      <th>bedroomcnt</th>\n",
       "      <th>bathroomcnt</th>\n",
       "      <th>calculatedfinishedsquarefeet</th>\n",
       "      <th>taxvaluedollarcnt</th>\n",
       "    </tr>\n",
       "  </thead>\n",
       "  <tbody>\n",
       "    <tr>\n",
       "      <th>672</th>\n",
       "      <td>3.0</td>\n",
       "      <td>2.0</td>\n",
       "      <td>1316.0</td>\n",
       "      <td>205123.0</td>\n",
       "    </tr>\n",
       "    <tr>\n",
       "      <th>835</th>\n",
       "      <td>3.0</td>\n",
       "      <td>2.0</td>\n",
       "      <td>1458.0</td>\n",
       "      <td>136104.0</td>\n",
       "    </tr>\n",
       "    <tr>\n",
       "      <th>1196</th>\n",
       "      <td>2.0</td>\n",
       "      <td>1.0</td>\n",
       "      <td>1421.0</td>\n",
       "      <td>35606.0</td>\n",
       "    </tr>\n",
       "    <tr>\n",
       "      <th>1381</th>\n",
       "      <td>4.0</td>\n",
       "      <td>3.0</td>\n",
       "      <td>2541.0</td>\n",
       "      <td>880456.0</td>\n",
       "    </tr>\n",
       "    <tr>\n",
       "      <th>1796</th>\n",
       "      <td>3.0</td>\n",
       "      <td>2.0</td>\n",
       "      <td>1491.0</td>\n",
       "      <td>107110.0</td>\n",
       "    </tr>\n",
       "    <tr>\n",
       "      <th>...</th>\n",
       "      <td>...</td>\n",
       "      <td>...</td>\n",
       "      <td>...</td>\n",
       "      <td>...</td>\n",
       "    </tr>\n",
       "    <tr>\n",
       "      <th>51429</th>\n",
       "      <td>6.0</td>\n",
       "      <td>4.0</td>\n",
       "      <td>3223.0</td>\n",
       "      <td>795000.0</td>\n",
       "    </tr>\n",
       "    <tr>\n",
       "      <th>51499</th>\n",
       "      <td>3.0</td>\n",
       "      <td>2.0</td>\n",
       "      <td>1681.0</td>\n",
       "      <td>244000.0</td>\n",
       "    </tr>\n",
       "    <tr>\n",
       "      <th>51777</th>\n",
       "      <td>4.0</td>\n",
       "      <td>3.0</td>\n",
       "      <td>1942.0</td>\n",
       "      <td>179912.0</td>\n",
       "    </tr>\n",
       "    <tr>\n",
       "      <th>52298</th>\n",
       "      <td>3.0</td>\n",
       "      <td>1.0</td>\n",
       "      <td>1038.0</td>\n",
       "      <td>41163.0</td>\n",
       "    </tr>\n",
       "    <tr>\n",
       "      <th>52309</th>\n",
       "      <td>4.0</td>\n",
       "      <td>3.0</td>\n",
       "      <td>1732.0</td>\n",
       "      <td>366309.0</td>\n",
       "    </tr>\n",
       "  </tbody>\n",
       "</table>\n",
       "<p>213 rows × 4 columns</p>\n",
       "</div>"
      ],
      "text/plain": [
       "       bedroomcnt  bathroomcnt  calculatedfinishedsquarefeet  \\\n",
       "672           3.0          2.0                        1316.0   \n",
       "835           3.0          2.0                        1458.0   \n",
       "1196          2.0          1.0                        1421.0   \n",
       "1381          4.0          3.0                        2541.0   \n",
       "1796          3.0          2.0                        1491.0   \n",
       "...           ...          ...                           ...   \n",
       "51429         6.0          4.0                        3223.0   \n",
       "51499         3.0          2.0                        1681.0   \n",
       "51777         4.0          3.0                        1942.0   \n",
       "52298         3.0          1.0                        1038.0   \n",
       "52309         4.0          3.0                        1732.0   \n",
       "\n",
       "       taxvaluedollarcnt  \n",
       "672             205123.0  \n",
       "835             136104.0  \n",
       "1196             35606.0  \n",
       "1381            880456.0  \n",
       "1796            107110.0  \n",
       "...                  ...  \n",
       "51429           795000.0  \n",
       "51499           244000.0  \n",
       "51777           179912.0  \n",
       "52298            41163.0  \n",
       "52309           366309.0  \n",
       "\n",
       "[213 rows x 4 columns]"
      ]
     },
     "execution_count": 35,
     "metadata": {},
     "output_type": "execute_result"
    }
   ],
   "source": [
    "# Looking for duplicates\n",
    "dupes = df[df.duplicated()]\n",
    "dupes"
   ]
  },
  {
   "cell_type": "markdown",
   "id": "30664cd9",
   "metadata": {},
   "source": [
    "##### Takeaways:\n",
    "* There are quitye a few duplicates. I will save the duplicated to a df called dupes and drop all other duplicates for time sake"
   ]
  },
  {
   "cell_type": "code",
   "execution_count": 61,
   "id": "086244a7",
   "metadata": {},
   "outputs": [],
   "source": [
    "# droppping duplicates\n",
    "df = df.drop_duplicates()"
   ]
  },
  {
   "cell_type": "code",
   "execution_count": 62,
   "id": "a1f673b5",
   "metadata": {},
   "outputs": [
    {
     "name": "stdout",
     "output_type": "stream",
     "text": [
      "<class 'pandas.core.frame.DataFrame'>\n",
      "Int64Index: 52145 entries, 0 to 52440\n",
      "Data columns (total 4 columns):\n",
      " #   Column                        Non-Null Count  Dtype  \n",
      "---  ------                        --------------  -----  \n",
      " 0   bedroomcnt                    52145 non-null  float64\n",
      " 1   bathroomcnt                   52145 non-null  float64\n",
      " 2   calculatedfinishedsquarefeet  52145 non-null  float64\n",
      " 3   taxvaluedollarcnt             52145 non-null  float64\n",
      "dtypes: float64(4)\n",
      "memory usage: 2.0 MB\n"
     ]
    }
   ],
   "source": [
    "df.info()"
   ]
  },
  {
   "cell_type": "markdown",
   "id": "834e779b",
   "metadata": {},
   "source": [
    "#### Outliers"
   ]
  },
  {
   "cell_type": "code",
   "execution_count": 64,
   "id": "aafcc043",
   "metadata": {},
   "outputs": [
    {
     "data": {
      "text/html": [
       "<div>\n",
       "<style scoped>\n",
       "    .dataframe tbody tr th:only-of-type {\n",
       "        vertical-align: middle;\n",
       "    }\n",
       "\n",
       "    .dataframe tbody tr th {\n",
       "        vertical-align: top;\n",
       "    }\n",
       "\n",
       "    .dataframe thead th {\n",
       "        text-align: right;\n",
       "    }\n",
       "</style>\n",
       "<table border=\"1\" class=\"dataframe\">\n",
       "  <thead>\n",
       "    <tr style=\"text-align: right;\">\n",
       "      <th></th>\n",
       "      <th>bedroomcnt</th>\n",
       "      <th>bathroomcnt</th>\n",
       "      <th>calculatedfinishedsquarefeet</th>\n",
       "      <th>taxvaluedollarcnt</th>\n",
       "    </tr>\n",
       "  </thead>\n",
       "  <tbody>\n",
       "    <tr>\n",
       "      <th>count</th>\n",
       "      <td>52145.000000</td>\n",
       "      <td>52145.000000</td>\n",
       "      <td>52145.000000</td>\n",
       "      <td>5.214500e+04</td>\n",
       "    </tr>\n",
       "    <tr>\n",
       "      <th>mean</th>\n",
       "      <td>3.306050</td>\n",
       "      <td>2.303730</td>\n",
       "      <td>1923.634462</td>\n",
       "      <td>5.284260e+05</td>\n",
       "    </tr>\n",
       "    <tr>\n",
       "      <th>std</th>\n",
       "      <td>0.940064</td>\n",
       "      <td>1.020159</td>\n",
       "      <td>1004.304509</td>\n",
       "      <td>7.491016e+05</td>\n",
       "    </tr>\n",
       "    <tr>\n",
       "      <th>min</th>\n",
       "      <td>0.000000</td>\n",
       "      <td>0.000000</td>\n",
       "      <td>128.000000</td>\n",
       "      <td>1.000000e+03</td>\n",
       "    </tr>\n",
       "    <tr>\n",
       "      <th>25%</th>\n",
       "      <td>3.000000</td>\n",
       "      <td>2.000000</td>\n",
       "      <td>1268.000000</td>\n",
       "      <td>1.939120e+05</td>\n",
       "    </tr>\n",
       "    <tr>\n",
       "      <th>50%</th>\n",
       "      <td>3.000000</td>\n",
       "      <td>2.000000</td>\n",
       "      <td>1660.000000</td>\n",
       "      <td>3.734490e+05</td>\n",
       "    </tr>\n",
       "    <tr>\n",
       "      <th>75%</th>\n",
       "      <td>4.000000</td>\n",
       "      <td>3.000000</td>\n",
       "      <td>2307.000000</td>\n",
       "      <td>6.189400e+05</td>\n",
       "    </tr>\n",
       "    <tr>\n",
       "      <th>max</th>\n",
       "      <td>14.000000</td>\n",
       "      <td>18.000000</td>\n",
       "      <td>21929.000000</td>\n",
       "      <td>4.906124e+07</td>\n",
       "    </tr>\n",
       "  </tbody>\n",
       "</table>\n",
       "</div>"
      ],
      "text/plain": [
       "         bedroomcnt   bathroomcnt  calculatedfinishedsquarefeet  \\\n",
       "count  52145.000000  52145.000000                  52145.000000   \n",
       "mean       3.306050      2.303730                   1923.634462   \n",
       "std        0.940064      1.020159                   1004.304509   \n",
       "min        0.000000      0.000000                    128.000000   \n",
       "25%        3.000000      2.000000                   1268.000000   \n",
       "50%        3.000000      2.000000                   1660.000000   \n",
       "75%        4.000000      3.000000                   2307.000000   \n",
       "max       14.000000     18.000000                  21929.000000   \n",
       "\n",
       "       taxvaluedollarcnt  \n",
       "count       5.214500e+04  \n",
       "mean        5.284260e+05  \n",
       "std         7.491016e+05  \n",
       "min         1.000000e+03  \n",
       "25%         1.939120e+05  \n",
       "50%         3.734490e+05  \n",
       "75%         6.189400e+05  \n",
       "max         4.906124e+07  "
      ]
     },
     "execution_count": 64,
     "metadata": {},
     "output_type": "execute_result"
    }
   ],
   "source": [
    "# looking into the descriptions fot the stats\n",
    "df.describe()"
   ]
  },
  {
   "cell_type": "code",
   "execution_count": 65,
   "id": "c04924dd",
   "metadata": {},
   "outputs": [],
   "source": [
    "import matplotlib.pyplot as plt"
   ]
  },
  {
   "cell_type": "code",
   "execution_count": 68,
   "id": "6c17e755",
   "metadata": {},
   "outputs": [
    {
     "data": {
      "image/png": "[encoded data removed]",
      "text/plain": [
       "<Figure size 640x480 with 1 Axes>"
      ]
     },
     "metadata": {},
     "output_type": "display_data"
    },
    {
     "data": {
      "image/png": "[encoded data removed]",
      "text/plain": [
       "<Figure size 640x480 with 1 Axes>"
      ]
     },
     "metadata": {},
     "output_type": "display_data"
    },
    {
     "data": {
      "image/png": "[encoded data removed]",
      "text/plain": [
       "<Figure size 640x480 with 1 Axes>"
      ]
     },
     "metadata": {},
     "output_type": "display_data"
    },
    {
     "data": {
      "image/png": "[encoded data removed]",
      "text/plain": [
       "<Figure size 640x480 with 1 Axes>"
      ]
     },
     "metadata": {},
     "output_type": "display_data"
    }
   ],
   "source": [
    "for col in df:\n",
    "    plt.boxplot(df[col])\n",
    "    plt.title(col)\n",
    "    plt.show()"
   ]
  },
  {
   "cell_type": "markdown",
   "id": "f358e07c",
   "metadata": {},
   "source": [
    "##### Takeways:\n",
    "* There look to be outliers in each column, quite a few\n",
    "\n",
    "##### Actions: \n",
    "* I will use 1.5 iqr to separate the outliers\n",
    "* for speed's sake, I will drop all outliers and return in the future to try to address them more\n",
    "* for bathrooms and bedrooms, I will remove all baths and beds that are less than 1 "
   ]
  },
  {
   "cell_type": "code",
   "execution_count": 72,
   "id": "ff902507",
   "metadata": {},
   "outputs": [],
   "source": [
    "outlier_limits = {}\n",
    "\n",
    "# for each column in df\n",
    "for col in df:\n",
    "    # set quartiles\n",
    "    q1, q3 = df[col].quantile([.25, .75])\n",
    "\n",
    "    # Set iqr \n",
    "    iqr = q3 - q1\n",
    "\n",
    "    # add to dictionary with the upper limits and lower limits\n",
    "    outlier_limits[col] =  {'low_limit_5': df[col].quantile(.05),\n",
    "                            'low_limit': lambda x: q1 - 1.5 * iqr,\n",
    "                  'up_limit': q3 + 1.5 * iqr\n",
    "                 }"
   ]
  },
  {
   "cell_type": "code",
   "execution_count": 73,
   "id": "540aa780",
   "metadata": {},
   "outputs": [
    {
     "data": {
      "text/plain": [
       "{'bedroomcnt': {'low_limit_5': 2.0, 'low_limit': 1.5, 'up_limit': 5.5},\n",
       " 'bathroomcnt': {'low_limit_5': 1.0, 'low_limit': 0.5, 'up_limit': 4.5},\n",
       " 'calculatedfinishedsquarefeet': {'low_limit_5': 893.0,\n",
       "  'low_limit': -290.5,\n",
       "  'up_limit': 3865.5},\n",
       " 'taxvaluedollarcnt': {'low_limit_5': 61666.0,\n",
       "  'low_limit': -443630.0,\n",
       "  'up_limit': 1256482.0}}"
      ]
     },
     "execution_count": 73,
     "metadata": {},
     "output_type": "execute_result"
    }
   ],
   "source": [
    "outlier_limits"
   ]
  },
  {
   "cell_type": "code",
   "execution_count": 93,
   "id": "029fab78",
   "metadata": {},
   "outputs": [],
   "source": [
    "# mak a copy to explore outliers later\n",
    "df_outliers = df.copy()"
   ]
  },
  {
   "cell_type": "code",
   "execution_count": 96,
   "id": "b24fdb05",
   "metadata": {},
   "outputs": [],
   "source": [
    "# for each cols\n",
    "for col in df:\n",
    "\n",
    "    # remove all observations that exceed upper limit\n",
    "    df = df[(df[col] <= outlier_limits[col]['up_limit'])]\n",
    "\n",
    "    # remove all observations that are below the lower limit\n",
    "    df = df[(df[col] >= outlier_limits[col]['low_limit'])]"
   ]
  },
  {
   "cell_type": "code",
   "execution_count": 103,
   "id": "3346af14",
   "metadata": {},
   "outputs": [
    {
     "data": {
      "text/plain": [
       "((46571, 4), (52145, 4), -5574)"
      ]
     },
     "execution_count": 103,
     "metadata": {},
     "output_type": "execute_result"
    }
   ],
   "source": [
    "# checking shape and outlier difference\n",
    "df.shape, df_outliers.shape, df.shape[0] - df_outliers.shape[0]"
   ]
  },
  {
   "cell_type": "markdown",
   "id": "8665b3f9",
   "metadata": {},
   "source": [
    "#### Rename columns "
   ]
  },
  {
   "cell_type": "code",
   "execution_count": 106,
   "id": "63301d21",
   "metadata": {},
   "outputs": [
    {
     "data": {
      "text/plain": [
       "Index(['bedroomcnt', 'bathroomcnt', 'calculatedfinishedsquarefeet',\n",
       "       'taxvaluedollarcnt'],\n",
       "      dtype='object')"
      ]
     },
     "execution_count": 106,
     "metadata": {},
     "output_type": "execute_result"
    }
   ],
   "source": [
    "# getting column names\n",
    "df.columns"
   ]
  },
  {
   "cell_type": "code",
   "execution_count": 105,
   "id": "c24bdc74",
   "metadata": {},
   "outputs": [
    {
     "data": {
      "text/html": [
       "<div>\n",
       "<style scoped>\n",
       "    .dataframe tbody tr th:only-of-type {\n",
       "        vertical-align: middle;\n",
       "    }\n",
       "\n",
       "    .dataframe tbody tr th {\n",
       "        vertical-align: top;\n",
       "    }\n",
       "\n",
       "    .dataframe thead th {\n",
       "        text-align: right;\n",
       "    }\n",
       "</style>\n",
       "<table border=\"1\" class=\"dataframe\">\n",
       "  <thead>\n",
       "    <tr style=\"text-align: right;\">\n",
       "      <th></th>\n",
       "      <th>beds</th>\n",
       "      <th>baths</th>\n",
       "      <th>square_feet</th>\n",
       "      <th>tax_value</th>\n",
       "    </tr>\n",
       "  </thead>\n",
       "  <tbody>\n",
       "    <tr>\n",
       "      <th>0</th>\n",
       "      <td>4.0</td>\n",
       "      <td>3.5</td>\n",
       "      <td>3100.0</td>\n",
       "      <td>1023282.0</td>\n",
       "    </tr>\n",
       "    <tr>\n",
       "      <th>1</th>\n",
       "      <td>2.0</td>\n",
       "      <td>1.0</td>\n",
       "      <td>1465.0</td>\n",
       "      <td>464000.0</td>\n",
       "    </tr>\n",
       "    <tr>\n",
       "      <th>2</th>\n",
       "      <td>3.0</td>\n",
       "      <td>2.0</td>\n",
       "      <td>1243.0</td>\n",
       "      <td>564778.0</td>\n",
       "    </tr>\n",
       "    <tr>\n",
       "      <th>3</th>\n",
       "      <td>4.0</td>\n",
       "      <td>3.0</td>\n",
       "      <td>2376.0</td>\n",
       "      <td>145143.0</td>\n",
       "    </tr>\n",
       "    <tr>\n",
       "      <th>4</th>\n",
       "      <td>4.0</td>\n",
       "      <td>3.0</td>\n",
       "      <td>2962.0</td>\n",
       "      <td>773303.0</td>\n",
       "    </tr>\n",
       "    <tr>\n",
       "      <th>...</th>\n",
       "      <td>...</td>\n",
       "      <td>...</td>\n",
       "      <td>...</td>\n",
       "      <td>...</td>\n",
       "    </tr>\n",
       "    <tr>\n",
       "      <th>52436</th>\n",
       "      <td>4.0</td>\n",
       "      <td>2.0</td>\n",
       "      <td>1633.0</td>\n",
       "      <td>346534.0</td>\n",
       "    </tr>\n",
       "    <tr>\n",
       "      <th>52437</th>\n",
       "      <td>2.0</td>\n",
       "      <td>2.0</td>\n",
       "      <td>1286.0</td>\n",
       "      <td>354621.0</td>\n",
       "    </tr>\n",
       "    <tr>\n",
       "      <th>52438</th>\n",
       "      <td>4.0</td>\n",
       "      <td>2.0</td>\n",
       "      <td>1612.0</td>\n",
       "      <td>67205.0</td>\n",
       "    </tr>\n",
       "    <tr>\n",
       "      <th>52439</th>\n",
       "      <td>3.0</td>\n",
       "      <td>1.0</td>\n",
       "      <td>1032.0</td>\n",
       "      <td>49546.0</td>\n",
       "    </tr>\n",
       "    <tr>\n",
       "      <th>52440</th>\n",
       "      <td>3.0</td>\n",
       "      <td>2.0</td>\n",
       "      <td>1762.0</td>\n",
       "      <td>522000.0</td>\n",
       "    </tr>\n",
       "  </tbody>\n",
       "</table>\n",
       "<p>46571 rows × 4 columns</p>\n",
       "</div>"
      ],
      "text/plain": [
       "       beds  baths  square_feet  tax_value\n",
       "0       4.0    3.5       3100.0  1023282.0\n",
       "1       2.0    1.0       1465.0   464000.0\n",
       "2       3.0    2.0       1243.0   564778.0\n",
       "3       4.0    3.0       2376.0   145143.0\n",
       "4       4.0    3.0       2962.0   773303.0\n",
       "...     ...    ...          ...        ...\n",
       "52436   4.0    2.0       1633.0   346534.0\n",
       "52437   2.0    2.0       1286.0   354621.0\n",
       "52438   4.0    2.0       1612.0    67205.0\n",
       "52439   3.0    1.0       1032.0    49546.0\n",
       "52440   3.0    2.0       1762.0   522000.0\n",
       "\n",
       "[46571 rows x 4 columns]"
      ]
     },
     "execution_count": 105,
     "metadata": {},
     "output_type": "execute_result"
    }
   ],
   "source": [
    "# renaming columns\n",
    "df = df.rename(columns={'bedroomcnt': 'beds',\n",
    "                   'bathroomcnt': 'baths',\n",
    "                   'calculatedfinishedsquarefeet': 'square_feet',\n",
    "                   'taxvaluedollarcnt': 'tax_value'})"
   ]
  },
  {
   "cell_type": "code",
   "execution_count": 28,
   "id": "c78a7fd4",
   "metadata": {},
   "outputs": [],
   "source": [
    "def clean_data(df, focus=True):\n",
    "    '''\n",
    "    Arguments: zillow df\n",
    "    Actions:\n",
    "        1. Removes outliers\n",
    "            a. lower limit is Q1 - (1.5*IQR)\n",
    "            b. upper limit is Q3 + (1.5*IQR)\n",
    "        2. Drop nulls and duplicates\n",
    "        3. Change column names\n",
    "    Returns: cleaned df\n",
    "    Modules:\n",
    "        1. import scipy.stats as stats\n",
    "        2. import pandas as pd\n",
    "        3. import numpy as np\n",
    "    '''\n",
    "    \n",
    "    # remove outliers\n",
    "    # initialize dict\n",
    "    outlier_limits = {}\n",
    "    \n",
    "    # for each column in df\n",
    "    for col in df:\n",
    "        \n",
    "        if df[col].dtype != 'O':\n",
    "            \n",
    "            # set quartiles\n",
    "            q1, q3 = df[col].quantile([.25, .75])\n",
    "\n",
    "            # Set iqr \n",
    "            iqr = q3 - q1\n",
    "\n",
    "            # add to dictionary with the upper limits and lower limits\n",
    "            outlier_limits[col] =  {'low_limit_5': df[col].quantile(.05),\n",
    "                                    'low_limit':  q1 - 1.5 * iqr,\n",
    "                          'up_limit': q3 + 1.5 * iqr\n",
    "                         }\n",
    "\n",
    "    # for each cols\n",
    "    for col in df:\n",
    "        \n",
    "        if col in outlier_limits:\n",
    "            \n",
    "            # remove all observations that exceed upper limit\n",
    "            df = df[(df[col] <= outlier_limits[col]['up_limit'])]\n",
    "\n",
    "            # remove all observations that are below the lower limit\n",
    "            df = df[(df[col] >= outlier_limits[col]['low_limit'])]\n",
    "\n",
    "    # drop nulls and duplicates\n",
    "    df = df.dropna().drop_duplicates()\n",
    "    \n",
    "    # change fips codes to county names\n",
    "    df.fips.replace(to_replace=[6037.0, 6059.0], value=['Los Angeles', 'Orange'], inplace=True)\n",
    "    \n",
    "    # change columns names\n",
    "    df = df.rename(columns={'bedroomcnt': 'beds',\n",
    "                  'bathroomcnt': 'baths',\n",
    "                  'calculatedfinishedsquarefeet': 'square_feet',\n",
    "                  'taxvaluedollarcnt': 'tax_value',\n",
    "                            'fips': 'county'\n",
    "                           })\n",
    "    \n",
    "    # adding option for insights from exploration\n",
    "    if focus == True:\n",
    "        \n",
    "        # removes all half-bathrooms from the data\n",
    "        df = df[df.baths.astype(str).str[-1] != '5']\n",
    "    \n",
    "    # exit function with clean df\n",
    "    return df\n"
   ]
  },
  {
   "cell_type": "code",
   "execution_count": 13,
   "id": "0c381e8e",
   "metadata": {},
   "outputs": [
    {
     "data": {
      "text/plain": [
       "0             Orange\n",
       "2             Orange\n",
       "3        Los Angeles\n",
       "4        Los Angeles\n",
       "5        Los Angeles\n",
       "            ...     \n",
       "52435    Los Angeles\n",
       "52436    Los Angeles\n",
       "52437    Los Angeles\n",
       "52439    Los Angeles\n",
       "52440    Los Angeles\n",
       "Name: fips, Length: 42557, dtype: object"
      ]
     },
     "execution_count": 13,
     "metadata": {},
     "output_type": "execute_result"
    }
   ],
   "source": [
    "df.fips.replace(to_replace=[6037.0, 6059.0], value=['Los Angeles', 'Orange'], inplace=True)"
   ]
  },
  {
   "cell_type": "code",
   "execution_count": 29,
   "id": "8c1aaeed",
   "metadata": {},
   "outputs": [],
   "source": [
    "df = clean_data(get_zillow())"
   ]
  },
  {
   "cell_type": "code",
   "execution_count": 30,
   "id": "e311045c",
   "metadata": {},
   "outputs": [
    {
     "data": {
      "text/plain": [
       "(38281, 5)"
      ]
     },
     "execution_count": 30,
     "metadata": {},
     "output_type": "execute_result"
    }
   ],
   "source": [
    "# fewer rows becasue outliers were handled before the dropping the nulls and duplicates first this time, there are 2 obeservatiosn less than before\n",
    "df.shape"
   ]
  },
  {
   "cell_type": "code",
   "execution_count": 11,
   "id": "18f8cc02",
   "metadata": {},
   "outputs": [
    {
     "data": {
      "text/plain": [
       "6037.0    30136\n",
       "6059.0    12421\n",
       "Name: fips, dtype: int64"
      ]
     },
     "execution_count": 11,
     "metadata": {},
     "output_type": "execute_result"
    }
   ],
   "source": [
    "df.fips.value_counts()\n",
    "# 06037 = LA County\n",
    "# 06059 = Orange County"
   ]
  },
  {
   "cell_type": "code",
   "execution_count": 118,
   "id": "95d081fd",
   "metadata": {},
   "outputs": [],
   "source": [
    "from prepare_module import split_data\n",
    "from sklearn.model_selection import train_test_split"
   ]
  },
  {
   "cell_type": "code",
   "execution_count": 22,
   "id": "8fd14f2f",
   "metadata": {},
   "outputs": [],
   "source": [
    "def split_data(df):\n",
    "    '''\n",
    "    Arguments: clean dataframe\n",
    "    Actions: splits Dataframe into a train, validate, and test datasets for explorations\n",
    "    Returns: train, validate, and test datasets\n",
    "    Modules:\n",
    "        1. from sklearn.model_selection import train_test_split\n",
    "    '''\n",
    "    # splitting with test focus\n",
    "    train_val, test = train_test_split(df, train_size=.8, random_state=1017)\n",
    "    \n",
    "    #splitting with train/validate focus\n",
    "    train, validate = train_test_split(train_val, train_size=.7, random_state=1017)\n",
    "\n",
    "    # exits function and returns train, validate, test\n",
    "    return train, validate, test"
   ]
  },
  {
   "cell_type": "code",
   "execution_count": 23,
   "id": "13a7bf6a",
   "metadata": {},
   "outputs": [
    {
     "ename": "NameError",
     "evalue": "name 'train_test_split' is not defined",
     "output_type": "error",
     "traceback": [
      "\u001b[0;31m---------------------------------------------------------------------------\u001b[0m",
      "\u001b[0;31mNameError\u001b[0m                                 Traceback (most recent call last)",
      "Input \u001b[0;32mIn [23]\u001b[0m, in \u001b[0;36m<cell line: 1>\u001b[0;34m()\u001b[0m\n\u001b[0;32m----> 1\u001b[0m train, validate, test \u001b[38;5;241m=\u001b[39m \u001b[43msplit_data\u001b[49m\u001b[43m(\u001b[49m\u001b[43mclean_data\u001b[49m\u001b[43m(\u001b[49m\u001b[43mget_zillow\u001b[49m\u001b[43m(\u001b[49m\u001b[43m)\u001b[49m\u001b[43m)\u001b[49m\u001b[43m)\u001b[49m\n",
      "Input \u001b[0;32mIn [22]\u001b[0m, in \u001b[0;36msplit_data\u001b[0;34m(df)\u001b[0m\n\u001b[1;32m      2\u001b[0m \u001b[38;5;124;03m'''\u001b[39;00m\n\u001b[1;32m      3\u001b[0m \u001b[38;5;124;03mArguments: clean dataframe\u001b[39;00m\n\u001b[1;32m      4\u001b[0m \u001b[38;5;124;03mActions: splits Dataframe into a train, validate, and test datasets for explorations\u001b[39;00m\n\u001b[0;32m   (...)\u001b[0m\n\u001b[1;32m      7\u001b[0m \u001b[38;5;124;03m    1. from sklearn.model_selection import train_test_split\u001b[39;00m\n\u001b[1;32m      8\u001b[0m \u001b[38;5;124;03m'''\u001b[39;00m\n\u001b[1;32m      9\u001b[0m \u001b[38;5;66;03m# splitting with test focus\u001b[39;00m\n\u001b[0;32m---> 10\u001b[0m train_val, test \u001b[38;5;241m=\u001b[39m \u001b[43mtrain_test_split\u001b[49m(df, train_size\u001b[38;5;241m=\u001b[39m\u001b[38;5;241m.8\u001b[39m, random_state\u001b[38;5;241m=\u001b[39m\u001b[38;5;241m1017\u001b[39m)\n\u001b[1;32m     12\u001b[0m \u001b[38;5;66;03m#splitting with train/validate focus\u001b[39;00m\n\u001b[1;32m     13\u001b[0m train, validate \u001b[38;5;241m=\u001b[39m train_test_split(train_val, train_size\u001b[38;5;241m=\u001b[39m\u001b[38;5;241m.7\u001b[39m, random_state\u001b[38;5;241m=\u001b[39m\u001b[38;5;241m1017\u001b[39m)\n",
      "\u001b[0;31mNameError\u001b[0m: name 'train_test_split' is not defined"
     ]
    }
   ],
   "source": [
    "train, validate, test = split_data(clean_data(get_zillow()))"
   ]
  },
  {
   "cell_type": "code",
   "execution_count": 122,
   "id": "04efe611",
   "metadata": {},
   "outputs": [],
   "source": [
    "def wrangle_zillow():\n",
    "    '''\n",
    "    Arguments: none\n",
    "    Actions:\n",
    "        1. Gets zillow data\n",
    "        2. Cleans zillow data\n",
    "        3. Splits zillow data\n",
    "    Returns: train, validate, test\n",
    "    Modules: get_zillow_data, clean_data, split_data\n",
    "    '''\n",
    "    # splits cleaned data into train, validate, test\n",
    "    train, validate, test = split_data(\n",
    "        \n",
    "        # cleans data\n",
    "        clean_data(\n",
    "        \n",
    "            # retrieves data\n",
    "            get_zillow()))\n",
    "    \n",
    "    # exits function with wrangled data\n",
    "    return train, validate, test"
   ]
  },
  {
   "cell_type": "code",
   "execution_count": 124,
   "id": "4883b08c",
   "metadata": {},
   "outputs": [],
   "source": [
    "train, validate, test = wrangle_zillow()"
   ]
  },
  {
   "cell_type": "code",
   "execution_count": 125,
   "id": "d6a85cf2",
   "metadata": {},
   "outputs": [
    {
     "data": {
      "text/plain": [
       "(       beds  baths  square_feet  tax_value\n",
       " 45556   4.0    2.5       2453.0   223456.0\n",
       " 36590   4.0    4.0       3109.0   442694.0\n",
       " 42832   3.0    1.0       1090.0   436161.0\n",
       " 23832   3.0    2.0       1673.0   575452.0\n",
       " 32934   4.0    3.0       1826.0   108984.0\n",
       " ...     ...    ...          ...        ...\n",
       " 26771   3.0    2.0       1410.0    50684.0\n",
       " 50414   2.0    1.0        933.0   657500.0\n",
       " 27499   3.0    2.0       1365.0   285113.0\n",
       " 20405   4.0    3.0       1967.0   240078.0\n",
       " 17594   4.0    3.0       3694.0   822334.0\n",
       " \n",
       " [26078 rows x 4 columns],\n",
       "        beds  baths  square_feet  tax_value\n",
       " 34000   3.0    2.0       2114.0   649000.0\n",
       " 29242   5.0    4.0       3732.0   283491.0\n",
       " 24760   3.0    1.0       1069.0    75888.0\n",
       " 51596   2.0    2.0       1114.0   709658.0\n",
       " 25918   2.0    1.0       1111.0   216449.0\n",
       " ...     ...    ...          ...        ...\n",
       " 18117   5.0    3.0       2992.0   370475.0\n",
       " 13491   4.0    3.0       1530.0    92167.0\n",
       " 19837   3.0    3.0       1798.0   495000.0\n",
       " 32814   2.0    2.0        919.0   414210.0\n",
       " 18426   4.0    3.0       2357.0   757832.0\n",
       " \n",
       " [11177 rows x 4 columns],\n",
       "        beds  baths  square_feet  tax_value\n",
       " 48931   2.0    2.5       1850.0   348307.0\n",
       " 43399   4.0    2.5       2894.0   731000.0\n",
       " 1828    3.0    2.5       1868.0   548692.0\n",
       " 45682   4.0    2.0       1381.0    57936.0\n",
       " 7095    5.0    3.0       3307.0   936211.0\n",
       " ...     ...    ...          ...        ...\n",
       " 16147   4.0    2.5       1980.0    74893.0\n",
       " 43205   4.0    2.0       2606.0   353000.0\n",
       " 19970   3.0    1.0       1039.0   272539.0\n",
       " 8872    3.0    1.0       1045.0   402744.0\n",
       " 4866    3.0    2.0       1415.0    73264.0\n",
       " \n",
       " [9314 rows x 4 columns])"
      ]
     },
     "execution_count": 125,
     "metadata": {},
     "output_type": "execute_result"
    }
   ],
   "source": [
    "train, validate, test"
   ]
  },
  {
   "cell_type": "code",
   "execution_count": 17,
   "id": "d2d39258",
   "metadata": {},
   "outputs": [
    {
     "data": {
      "text/html": [
       "<div>\n",
       "<style scoped>\n",
       "    .dataframe tbody tr th:only-of-type {\n",
       "        vertical-align: middle;\n",
       "    }\n",
       "\n",
       "    .dataframe tbody tr th {\n",
       "        vertical-align: top;\n",
       "    }\n",
       "\n",
       "    .dataframe thead th {\n",
       "        text-align: right;\n",
       "    }\n",
       "</style>\n",
       "<table border=\"1\" class=\"dataframe\">\n",
       "  <thead>\n",
       "    <tr style=\"text-align: right;\">\n",
       "      <th></th>\n",
       "      <th>beds</th>\n",
       "      <th>baths</th>\n",
       "      <th>square_feet</th>\n",
       "      <th>tax_value</th>\n",
       "      <th>county</th>\n",
       "    </tr>\n",
       "  </thead>\n",
       "  <tbody>\n",
       "    <tr>\n",
       "      <th>0</th>\n",
       "      <td>4.0</td>\n",
       "      <td>3.5</td>\n",
       "      <td>3100.0</td>\n",
       "      <td>1023282.0</td>\n",
       "      <td>Orange</td>\n",
       "    </tr>\n",
       "    <tr>\n",
       "      <th>2</th>\n",
       "      <td>3.0</td>\n",
       "      <td>2.0</td>\n",
       "      <td>1243.0</td>\n",
       "      <td>564778.0</td>\n",
       "      <td>Orange</td>\n",
       "    </tr>\n",
       "    <tr>\n",
       "      <th>3</th>\n",
       "      <td>4.0</td>\n",
       "      <td>3.0</td>\n",
       "      <td>2376.0</td>\n",
       "      <td>145143.0</td>\n",
       "      <td>Los Angeles</td>\n",
       "    </tr>\n",
       "    <tr>\n",
       "      <th>4</th>\n",
       "      <td>4.0</td>\n",
       "      <td>3.0</td>\n",
       "      <td>2962.0</td>\n",
       "      <td>773303.0</td>\n",
       "      <td>Los Angeles</td>\n",
       "    </tr>\n",
       "    <tr>\n",
       "      <th>5</th>\n",
       "      <td>2.0</td>\n",
       "      <td>1.0</td>\n",
       "      <td>738.0</td>\n",
       "      <td>218552.0</td>\n",
       "      <td>Los Angeles</td>\n",
       "    </tr>\n",
       "  </tbody>\n",
       "</table>\n",
       "</div>"
      ],
      "text/plain": [
       "   beds  baths  square_feet  tax_value       county\n",
       "0   4.0    3.5       3100.0  1023282.0       Orange\n",
       "2   3.0    2.0       1243.0   564778.0       Orange\n",
       "3   4.0    3.0       2376.0   145143.0  Los Angeles\n",
       "4   4.0    3.0       2962.0   773303.0  Los Angeles\n",
       "5   2.0    1.0        738.0   218552.0  Los Angeles"
      ]
     },
     "execution_count": 17,
     "metadata": {},
     "output_type": "execute_result"
    }
   ],
   "source": [
    "df.head()"
   ]
  },
  {
   "cell_type": "markdown",
   "id": "f4c217c3",
   "metadata": {},
   "source": [
    "# Re-do"
   ]
  },
  {
   "cell_type": "code",
   "execution_count": null,
   "id": "f6e9fe60",
   "metadata": {},
   "outputs": [],
   "source": [
    "def focus_data():\n",
    "    '''\n",
    "    \n",
    "    \n",
    "    '''\n",
    "    "
   ]
  },
  {
   "cell_type": "code",
   "execution_count": 27,
   "id": "159f8d7d",
   "metadata": {},
   "outputs": [],
   "source": [
    "df_full_baths = df[df.baths.astype(str).str[-1] != '5']"
   ]
  }
 ],
 "metadata": {
  "kernelspec": {
   "display_name": "Python 3 (ipykernel)",
   "language": "python",
   "name": "python3"
  },
  "language_info": {
   "codemirror_mode": {
    "name": "ipython",
    "version": 3
   },
   "file_extension": ".py",
   "mimetype": "text/x-python",
   "name": "python",
   "nbconvert_exporter": "python",
   "pygments_lexer": "ipython3",
   "version": "3.9.13"
  }
 },
 "nbformat": 4,
 "nbformat_minor": 5
}
